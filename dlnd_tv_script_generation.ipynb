{
 "cells": [
  {
   "cell_type": "markdown",
   "metadata": {},
   "source": [
    "# TV Script Generation\n",
    "In this project, you'll generate your own [Simpsons](https://en.wikipedia.org/wiki/The_Simpsons) TV scripts using RNNs.  You'll be using part of the [Simpsons dataset](https://www.kaggle.com/wcukierski/the-simpsons-by-the-data) of scripts from 27 seasons.  The Neural Network you'll build will generate a new TV script for a scene at [Moe's Tavern](https://simpsonswiki.com/wiki/Moe's_Tavern).\n",
    "## Get the Data\n",
    "The data is already provided for you.  You'll be using a subset of the original dataset.  It consists of only the scenes in Moe's Tavern.  This doesn't include other versions of the tavern, like \"Moe's Cavern\", \"Flaming Moe's\", \"Uncle Moe's Family Feed-Bag\", etc.."
   ]
  },
  {
   "cell_type": "code",
   "execution_count": 1,
   "metadata": {},
   "outputs": [],
   "source": [
    "\"\"\"\n",
    "DON'T MODIFY ANYTHING IN THIS CELL\n",
    "\"\"\"\n",
    "import helper\n",
    "\n",
    "data_dir = './data/simpsons/moes_tavern_lines.txt'\n",
    "text = helper.load_data(data_dir)\n",
    "# Ignore notice, since we don't use it for analysing the data\n",
    "text = text[81:]\n",
    "#text"
   ]
  },
  {
   "cell_type": "markdown",
   "metadata": {},
   "source": [
    "## Explore the Data\n",
    "Play around with `view_sentence_range` to view different parts of the data."
   ]
  },
  {
   "cell_type": "code",
   "execution_count": 2,
   "metadata": {},
   "outputs": [
    {
     "name": "stdout",
     "output_type": "stream",
     "text": [
      "Dataset Stats\n",
      "Roughly the number of unique words: 11492\n",
      "Number of scenes: 262\n",
      "Average number of sentences in each scene: 15.251908396946565\n",
      "Number of lines: 4258\n",
      "Average number of words in each line: 11.50164396430249\n",
      "\n",
      "The sentences 0 to 10:\n",
      "\n",
      "Moe_Szyslak: (INTO PHONE) Moe's Tavern. Where the elite meet to drink.\n",
      "Bart_Simpson: Eh, yeah, hello, is Mike there? Last name, Rotch.\n",
      "Moe_Szyslak: (INTO PHONE) Hold on, I'll check. (TO BARFLIES) Mike Rotch. Mike Rotch. Hey, has anybody seen Mike Rotch, lately?\n",
      "Moe_Szyslak: (INTO PHONE) Listen you little puke. One of these days I'm gonna catch you, and I'm gonna carve my name on your back with an ice pick.\n",
      "Moe_Szyslak: What's the matter Homer? You're not your normal effervescent self.\n",
      "Homer_Simpson: I got my problems, Moe. Give me another one.\n",
      "Moe_Szyslak: Homer, hey, you should not drink to forget your problems.\n",
      "Barney_Gumble: Yeah, you should only drink to enhance your social skills.\n",
      "\n"
     ]
    }
   ],
   "source": [
    "view_sentence_range = (0, 10)\n",
    "\n",
    "\"\"\"\n",
    "DON'T MODIFY ANYTHING IN THIS CELL\n",
    "\"\"\"\n",
    "import numpy as np\n",
    "\n",
    "print('Dataset Stats')\n",
    "print('Roughly the number of unique words: {}'.format(len({word: None for word in text.split()})))\n",
    "scenes = text.split('\\n\\n')\n",
    "print('Number of scenes: {}'.format(len(scenes)))\n",
    "sentence_count_scene = [scene.count('\\n') for scene in scenes]\n",
    "print('Average number of sentences in each scene: {}'.format(np.average(sentence_count_scene)))\n",
    "\n",
    "sentences = [sentence for scene in scenes for sentence in scene.split('\\n')]\n",
    "print('Number of lines: {}'.format(len(sentences)))\n",
    "word_count_sentence = [len(sentence.split()) for sentence in sentences]\n",
    "print('Average number of words in each line: {}'.format(np.average(word_count_sentence)))\n",
    "\n",
    "print()\n",
    "print('The sentences {} to {}:'.format(*view_sentence_range))\n",
    "print('\\n'.join(text.split('\\n')[view_sentence_range[0]:view_sentence_range[1]]))"
   ]
  },
  {
   "cell_type": "markdown",
   "metadata": {},
   "source": [
    "## Implement Preprocessing Functions\n",
    "The first thing to do to any dataset is preprocessing.  Implement the following preprocessing functions below:\n",
    "- Lookup Table\n",
    "- Tokenize Punctuation\n",
    "\n",
    "### Lookup Table\n",
    "To create a word embedding, you first need to transform the words to ids.  In this function, create two dictionaries:\n",
    "- Dictionary to go from the words to an id, we'll call `vocab_to_int`\n",
    "- Dictionary to go from the id to word, we'll call `int_to_vocab`\n",
    "\n",
    "Return these dictionaries in the following tuple `(vocab_to_int, int_to_vocab)`"
   ]
  },
  {
   "cell_type": "code",
   "execution_count": 3,
   "metadata": {},
   "outputs": [
    {
     "name": "stderr",
     "output_type": "stream",
     "text": [
      "C:\\Users\\deepai\\Anaconda3\\envs\\u2\\lib\\site-packages\\h5py\\__init__.py:36: FutureWarning: Conversion of the second argument of issubdtype from `float` to `np.floating` is deprecated. In future, it will be treated as `np.float64 == np.dtype(float).type`.\n",
      "  from ._conv import register_converters as _register_converters\n"
     ]
    },
    {
     "name": "stdout",
     "output_type": "stream",
     "text": [
      "Tests Passed\n"
     ]
    }
   ],
   "source": [
    "import numpy as np\n",
    "import problem_unittests as tests\n",
    "\n",
    "def create_lookup_tables(text):\n",
    "    \"\"\"\n",
    "    Create lookup tables for vocabulary\n",
    "    :param text: The text of tv scripts split into words\n",
    "    :return: A tuple of dicts (vocab_to_int, int_to_vocab)\n",
    "    \"\"\"\n",
    "    # TODO: Implement Function\n",
    "    corpus = set(text)\n",
    "    vocab_to_int = {word:index for index, word in enumerate(corpus)}\n",
    "    int_to_vocab = {index:word for index, word in enumerate(corpus)}\n",
    "    return vocab_to_int, int_to_vocab\n",
    "\n",
    "\n",
    "\"\"\"\n",
    "DON'T MODIFY ANYTHING IN THIS CELL THAT IS BELOW THIS LINE\n",
    "\"\"\"\n",
    "tests.test_create_lookup_tables(create_lookup_tables)"
   ]
  },
  {
   "cell_type": "markdown",
   "metadata": {},
   "source": [
    "### Tokenize Punctuation\n",
    "We'll be splitting the script into a word array using spaces as delimiters.  However, punctuations like periods and exclamation marks make it hard for the neural network to distinguish between the word \"bye\" and \"bye!\".\n",
    "\n",
    "Implement the function `token_lookup` to return a dict that will be used to tokenize symbols like \"!\" into \"||Exclamation_Mark||\".  Create a dictionary for the following symbols where the symbol is the key and value is the token:\n",
    "- Period ( . )\n",
    "- Comma ( , )\n",
    "- Quotation Mark ( \" )\n",
    "- Semicolon ( ; )\n",
    "- Exclamation mark ( ! )\n",
    "- Question mark ( ? )\n",
    "- Left Parentheses ( ( )\n",
    "- Right Parentheses ( ) )\n",
    "- Dash ( -- )\n",
    "- Return ( \\n )\n",
    "\n",
    "This dictionary will be used to token the symbols and add the delimiter (space) around it.  This separates the symbols as it's own word, making it easier for the neural network to predict on the next word. Make sure you don't use a token that could be confused as a word. Instead of using the token \"dash\", try using something like \"||dash||\"."
   ]
  },
  {
   "cell_type": "code",
   "execution_count": 4,
   "metadata": {},
   "outputs": [
    {
     "name": "stdout",
     "output_type": "stream",
     "text": [
      "Tests Passed\n"
     ]
    }
   ],
   "source": [
    "def token_lookup():\n",
    "    \"\"\"\n",
    "    Generate a dict to turn punctuation into a token.\n",
    "    :return: Tokenize dictionary where the key is the punctuation and the value is the token\n",
    "    \"\"\"\n",
    "    # TODO: Implement Function\n",
    "    return {'.':'||Period||',\n",
    "            ',':'||Comma||',\n",
    "            '\"':'||Quotation_Mark||',\n",
    "            ';':'||Semicolon||', \n",
    "            '!':'||Exclamation_Mark||',\n",
    "            '?':'||Question_Mark||', \n",
    "            '(':'||Left_Parentheses||', \n",
    "            ')':'||Right_Parentheses||',\n",
    "            '--':'||Dash||',\n",
    "            '\\n':'||Return||'}\n",
    "\n",
    "\"\"\"\n",
    "DON'T MODIFY ANYTHING IN THIS CELL THAT IS BELOW THIS LINE\n",
    "\"\"\"\n",
    "tests.test_tokenize(token_lookup)"
   ]
  },
  {
   "cell_type": "markdown",
   "metadata": {},
   "source": [
    "## Preprocess all the data and save it\n",
    "Running the code cell below will preprocess all the data and save it to file."
   ]
  },
  {
   "cell_type": "code",
   "execution_count": 5,
   "metadata": {},
   "outputs": [],
   "source": [
    "\"\"\"\n",
    "DON'T MODIFY ANYTHING IN THIS CELL\n",
    "\"\"\"\n",
    "# Preprocess Training, Validation, and Testing Data\n",
    "helper.preprocess_and_save_data(data_dir, token_lookup, create_lookup_tables)"
   ]
  },
  {
   "cell_type": "markdown",
   "metadata": {},
   "source": [
    "# Check Point\n",
    "This is your first checkpoint. If you ever decide to come back to this notebook or have to restart the notebook, you can start from here. The preprocessed data has been saved to disk."
   ]
  },
  {
   "cell_type": "code",
   "execution_count": 6,
   "metadata": {},
   "outputs": [],
   "source": [
    "\"\"\"\n",
    "DON'T MODIFY ANYTHING IN THIS CELL\n",
    "\"\"\"\n",
    "import helper\n",
    "import numpy as np\n",
    "import problem_unittests as tests\n",
    "\n",
    "int_text, vocab_to_int, int_to_vocab, token_dict = helper.load_preprocess()"
   ]
  },
  {
   "cell_type": "markdown",
   "metadata": {},
   "source": [
    "## Build the Neural Network\n",
    "You'll build the components necessary to build a RNN by implementing the following functions below:\n",
    "- get_inputs\n",
    "- get_init_cell\n",
    "- get_embed\n",
    "- build_rnn\n",
    "- build_nn\n",
    "- get_batches\n",
    "\n",
    "### Check the Version of TensorFlow and Access to GPU"
   ]
  },
  {
   "cell_type": "code",
   "execution_count": 7,
   "metadata": {},
   "outputs": [
    {
     "name": "stdout",
     "output_type": "stream",
     "text": [
      "TensorFlow Version: 1.8.0\n",
      "Default GPU Device: /device:GPU:0\n"
     ]
    }
   ],
   "source": [
    "\"\"\"\n",
    "DON'T MODIFY ANYTHING IN THIS CELL\n",
    "\"\"\"\n",
    "from distutils.version import LooseVersion\n",
    "import warnings\n",
    "import tensorflow as tf\n",
    "\n",
    "# Check TensorFlow Version\n",
    "assert LooseVersion(tf.__version__) >= LooseVersion('1.3'), 'Please use TensorFlow version 1.3 or newer'\n",
    "print('TensorFlow Version: {}'.format(tf.__version__))\n",
    "\n",
    "# Check for a GPU\n",
    "if not tf.test.gpu_device_name():\n",
    "    warnings.warn('No GPU found. Please use a GPU to train your neural network.')\n",
    "else:\n",
    "    print('Default GPU Device: {}'.format(tf.test.gpu_device_name()))"
   ]
  },
  {
   "cell_type": "markdown",
   "metadata": {},
   "source": [
    "### Input\n",
    "Implement the `get_inputs()` function to create TF Placeholders for the Neural Network.  It should create the following placeholders:\n",
    "- Input text placeholder named \"input\" using the [TF Placeholder](https://www.tensorflow.org/api_docs/python/tf/placeholder) `name` parameter.\n",
    "- Targets placeholder\n",
    "- Learning Rate placeholder\n",
    "\n",
    "Return the placeholders in the following tuple `(Input, Targets, LearningRate)`"
   ]
  },
  {
   "cell_type": "code",
   "execution_count": 8,
   "metadata": {},
   "outputs": [
    {
     "name": "stdout",
     "output_type": "stream",
     "text": [
      "Tests Passed\n"
     ]
    }
   ],
   "source": [
    "def get_inputs():\n",
    "    \"\"\"\n",
    "    Create TF Placeholders for input, targets, and learning rate.\n",
    "    :return: Tuple (input, targets, learning rate)\n",
    "    \"\"\"\n",
    "    # TODO: Implement Function\n",
    "    inputs = tf.placeholder(tf.int32, [None, None], name='input')\n",
    "    targets = tf.placeholder(tf.int32, [None, None], name='target')\n",
    "    learning_rate = tf.placeholder(tf.float32, name='learning_rate')\n",
    "    return inputs, targets, learning_rate\n",
    "\n",
    "\n",
    "\"\"\"\n",
    "DON'T MODIFY ANYTHING IN THIS CELL THAT IS BELOW THIS LINE\n",
    "\"\"\"\n",
    "tests.test_get_inputs(get_inputs)"
   ]
  },
  {
   "cell_type": "markdown",
   "metadata": {},
   "source": [
    "### Build RNN Cell and Initialize\n",
    "Stack one or more [`BasicLSTMCells`](https://www.tensorflow.org/api_docs/python/tf/contrib/rnn/BasicLSTMCell) in a [`MultiRNNCell`](https://www.tensorflow.org/api_docs/python/tf/contrib/rnn/MultiRNNCell).\n",
    "- The Rnn size should be set using `rnn_size`\n",
    "- Initalize Cell State using the MultiRNNCell's [`zero_state()`](https://www.tensorflow.org/api_docs/python/tf/contrib/rnn/MultiRNNCell#zero_state) function\n",
    "    - Apply the name \"initial_state\" to the initial state using [`tf.identity()`](https://www.tensorflow.org/api_docs/python/tf/identity)\n",
    "\n",
    "Return the cell and initial state in the following tuple `(Cell, InitialState)`"
   ]
  },
  {
   "cell_type": "code",
   "execution_count": 9,
   "metadata": {},
   "outputs": [
    {
     "name": "stdout",
     "output_type": "stream",
     "text": [
      "Tests Passed\n"
     ]
    }
   ],
   "source": [
    "def get_init_cell(batch_size, rnn_size):\n",
    "    \"\"\"\n",
    "    Create an RNN Cell and initialize it.\n",
    "    :param batch_size: Size of batches\n",
    "    :param rnn_size: Size of RNNs\n",
    "    :return: Tuple (cell, initialize state)\n",
    "    \"\"\"\n",
    "    # TODO: Implement Function\n",
    "    lstm = tf.contrib.rnn.BasicLSTMCell(rnn_size)\n",
    "    lstm_cell = tf.contrib.rnn.MultiRNNCell([lstm])\n",
    "\n",
    "    init_state = tf.identity(lstm_cell.zero_state(batch_size, tf.float32), name='initial_state')\n",
    "\n",
    "    return (lstm_cell, init_state)\n",
    "\n",
    "\n",
    "\"\"\"\n",
    "DON'T MODIFY ANYTHING IN THIS CELL THAT IS BELOW THIS LINE\n",
    "\"\"\"\n",
    "tests.test_get_init_cell(get_init_cell)"
   ]
  },
  {
   "cell_type": "markdown",
   "metadata": {},
   "source": [
    "### Word Embedding\n",
    "Apply embedding to `input_data` using TensorFlow.  Return the embedded sequence."
   ]
  },
  {
   "cell_type": "code",
   "execution_count": 10,
   "metadata": {},
   "outputs": [
    {
     "name": "stdout",
     "output_type": "stream",
     "text": [
      "Tests Passed\n"
     ]
    }
   ],
   "source": [
    "def get_embed(input_data, vocab_size, embed_dim):\n",
    "    \"\"\"\n",
    "    Create embedding for <input_data>.\n",
    "    :param input_data: TF placeholder for text input.\n",
    "    :param vocab_size: Number of words in vocabulary.\n",
    "    :param embed_dim: Number of embedding dimensions\n",
    "    :return: Embedded input.\n",
    "    \"\"\"\n",
    "    # TODO: Implement Function\n",
    "    embedding_weight = tf.Variable(tf.truncated_normal([vocab_size, embed_dim], stddev=0.1), dtype=tf.float32, name=\"embedding\")\n",
    "    return tf.nn.embedding_lookup(embedding_weight, input_data)\n",
    "\n",
    "\n",
    "\"\"\"\n",
    "DON'T MODIFY ANYTHING IN THIS CELL THAT IS BELOW THIS LINE\n",
    "\"\"\"\n",
    "tests.test_get_embed(get_embed)"
   ]
  },
  {
   "cell_type": "markdown",
   "metadata": {},
   "source": [
    "### Build RNN\n",
    "You created a RNN Cell in the `get_init_cell()` function.  Time to use the cell to create a RNN.\n",
    "- Build the RNN using the [`tf.nn.dynamic_rnn()`](https://www.tensorflow.org/api_docs/python/tf/nn/dynamic_rnn)\n",
    " - Apply the name \"final_state\" to the final state using [`tf.identity()`](https://www.tensorflow.org/api_docs/python/tf/identity)\n",
    "\n",
    "Return the outputs and final_state state in the following tuple `(Outputs, FinalState)` "
   ]
  },
  {
   "cell_type": "code",
   "execution_count": 11,
   "metadata": {},
   "outputs": [
    {
     "name": "stdout",
     "output_type": "stream",
     "text": [
      "Tests Passed\n"
     ]
    }
   ],
   "source": [
    "def build_rnn(cell, inputs):\n",
    "    \"\"\"\n",
    "    Create a RNN using a RNN Cell\n",
    "    :param cell: RNN Cell\n",
    "    :param inputs: Input text data\n",
    "    :return: Tuple (Outputs, Final State)\n",
    "    \"\"\"\n",
    "    # TODO: Implement Function\n",
    "    outputs, state  = tf.nn.dynamic_rnn(cell, inputs, dtype=tf.float32)\n",
    "    final_state = tf.identity(state, 'final_state')\n",
    "    return outputs, final_state\n",
    "\n",
    "\n",
    "\"\"\"\n",
    "DON'T MODIFY ANYTHING IN THIS CELL THAT IS BELOW THIS LINE\n",
    "\"\"\"\n",
    "tests.test_build_rnn(build_rnn)"
   ]
  },
  {
   "cell_type": "markdown",
   "metadata": {},
   "source": [
    "### Build the Neural Network\n",
    "Apply the functions you implemented above to:\n",
    "- Apply embedding to `input_data` using your `get_embed(input_data, vocab_size, embed_dim)` function.\n",
    "- Build RNN using `cell` and your `build_rnn(cell, inputs)` function.\n",
    "- Apply a fully connected layer with a linear activation and `vocab_size` as the number of outputs.\n",
    "\n",
    "Return the logits and final state in the following tuple (Logits, FinalState) "
   ]
  },
  {
   "cell_type": "code",
   "execution_count": 12,
   "metadata": {},
   "outputs": [
    {
     "name": "stdout",
     "output_type": "stream",
     "text": [
      "Tests Passed\n"
     ]
    }
   ],
   "source": [
    "def build_nn(cell, rnn_size, input_data, vocab_size, embed_dim):\n",
    "    \"\"\"\n",
    "    Build part of the neural network\n",
    "    :param cell: RNN cell\n",
    "    :param rnn_size: Size of rnns\n",
    "    :param input_data: Input data\n",
    "    :param vocab_size: Vocabulary size\n",
    "    :param embed_dim: Number of embedding dimensions\n",
    "    :return: Tuple (Logits, FinalState)\n",
    "    \"\"\"\n",
    "    # TODO: Implement Function\n",
    "    embed = get_embed(input_data, vocab_size, rnn_size)\n",
    "    outputs, final_state = build_rnn(cell, embed)\n",
    "    logits = tf.contrib.layers.fully_connected(outputs, \n",
    "                                               vocab_size, \n",
    "                                               weights_initializer = tf.truncated_normal_initializer(stddev = 0.01), \n",
    "                                               biases_initializer=tf.zeros_initializer(),\n",
    "                                               activation_fn=None)\n",
    "    \n",
    "    \n",
    "    return logits, final_state\n",
    "\n",
    "\n",
    "\"\"\"\n",
    "DON'T MODIFY ANYTHING IN THIS CELL THAT IS BELOW THIS LINE\n",
    "\"\"\"\n",
    "tests.test_build_nn(build_nn)"
   ]
  },
  {
   "cell_type": "markdown",
   "metadata": {},
   "source": [
    "### Batches\n",
    "Implement `get_batches` to create batches of input and targets using `int_text`.  The batches should be a Numpy array with the shape `(number of batches, 2, batch size, sequence length)`. Each batch contains two elements:\n",
    "- The first element is a single batch of **input** with the shape `[batch size, sequence length]`\n",
    "- The second element is a single batch of **targets** with the shape `[batch size, sequence length]`\n",
    "\n",
    "If you can't fill the last batch with enough data, drop the last batch.\n",
    "\n",
    "For example, `get_batches([1, 2, 3, 4, 5, 6, 7, 8, 9, 10, 11, 12, 13, 14, 15, 16, 17, 18, 19, 20], 3, 2)` would return a Numpy array of the following:\n",
    "```\n",
    "[\n",
    "  # First Batch\n",
    "  [\n",
    "    # Batch of Input\n",
    "    [[ 1  2], [ 7  8], [13 14]]\n",
    "    # Batch of targets\n",
    "    [[ 2  3], [ 8  9], [14 15]]\n",
    "  ]\n",
    "\n",
    "  # Second Batch\n",
    "  [\n",
    "    # Batch of Input\n",
    "    [[ 3  4], [ 9 10], [15 16]]\n",
    "    # Batch of targets\n",
    "    [[ 4  5], [10 11], [16 17]]\n",
    "  ]\n",
    "\n",
    "  # Third Batch\n",
    "  [\n",
    "    # Batch of Input\n",
    "    [[ 5  6], [11 12], [17 18]]\n",
    "    # Batch of targets\n",
    "    [[ 6  7], [12 13], [18  1]]\n",
    "  ]\n",
    "]\n",
    "```\n",
    "\n",
    "Notice that the last target value in the last batch is the first input value of the first batch. In this case, `1`. This is a common technique used when creating sequence batches, although it is rather unintuitive."
   ]
  },
  {
   "cell_type": "code",
   "execution_count": 13,
   "metadata": {},
   "outputs": [
    {
     "name": "stdout",
     "output_type": "stream",
     "text": [
      "Tests Passed\n"
     ]
    }
   ],
   "source": [
    "def get_batches(int_text, batch_size, seq_length):\n",
    "    \"\"\"\n",
    "    Return batches of input and target\n",
    "    :param int_text: Text with the words replaced by their ids\n",
    "    :param batch_size: The size of batch\n",
    "    :param seq_length: The length of sequence\n",
    "    :return: Batches as a Numpy array\n",
    "    \"\"\"\n",
    "    # TODO: Implement Function\n",
    "    \n",
    "    #cal batch sizes from int_text\n",
    "    n_total=len(int_text)\n",
    "    n_batches = int(n_total // (batch_size * seq_length))\n",
    "    seq_batch = int(n_batches*seq_length)\n",
    "    \n",
    "    #x and y with one offset\n",
    "    x = int_text[:n_batches * batch_size * seq_length]\n",
    "    y = x[1:] + [x[0]]\n",
    "    #batches zeros fill\n",
    "    batches = np.zeros((n_batches, 2, batch_size, seq_length))  \n",
    "    for k, i_start in enumerate(range(0, len(x), seq_batch)):    \n",
    "        #batch x, y & create rnn time based input\n",
    "        i_end = i_start + seq_batch\n",
    "        seq_x = x[i_start:i_end]\n",
    "        seq_y = y[i_start:i_end] \n",
    "        for kk, i_i_start in enumerate(range(0, len(seq_x), seq_length)):\n",
    "            i_i_end = i_i_start+seq_length\n",
    "            bat_x = seq_x[i_i_start:i_i_end]\n",
    "            bat_y = seq_y[i_i_start:i_i_end]\n",
    "            batches[kk][0][k] = bat_x\n",
    "            batches[kk][1][k] = bat_y\n",
    "\n",
    "    return np.array(batches)\n",
    "\n",
    "\n",
    "\n",
    "\"\"\"\n",
    "DON'T MODIFY ANYTHING IN THIS CELL THAT IS BELOW THIS LINE\n",
    "\"\"\"\n",
    "tests.test_get_batches(get_batches)"
   ]
  },
  {
   "cell_type": "markdown",
   "metadata": {},
   "source": [
    "## Neural Network Training\n",
    "### Hyperparameters\n",
    "Tune the following parameters:\n",
    "\n",
    "- Set `num_epochs` to the number of epochs.\n",
    "- Set `batch_size` to the batch size.\n",
    "- Set `rnn_size` to the size of the RNNs.\n",
    "- Set `embed_dim` to the size of the embedding.\n",
    "- Set `seq_length` to the length of sequence.\n",
    "- Set `learning_rate` to the learning rate.\n",
    "- Set `show_every_n_batches` to the number of batches the neural network should print progress."
   ]
  },
  {
   "cell_type": "code",
   "execution_count": 14,
   "metadata": {},
   "outputs": [],
   "source": [
    "# Number of Epochs\n",
    "num_epochs = 1000\n",
    "# Batch Size\n",
    "batch_size = 128\n",
    "# RNN Size\n",
    "rnn_size = 512\n",
    "# Embedding Dimension Size\n",
    "embed_dim = 200\n",
    "# Sequence Length\n",
    "seq_length = 15\n",
    "# Learning Rate\n",
    "learning_rate = 0.001\n",
    "# Show stats for every n number of batches\n",
    "show_every_n_batches = 100\n",
    "\n",
    "\"\"\"\n",
    "DON'T MODIFY ANYTHING IN THIS CELL THAT IS BELOW THIS LINE\n",
    "\"\"\"\n",
    "save_dir = './save'"
   ]
  },
  {
   "cell_type": "markdown",
   "metadata": {},
   "source": [
    "### Build the Graph\n",
    "Build the graph using the neural network you implemented."
   ]
  },
  {
   "cell_type": "code",
   "execution_count": 15,
   "metadata": {},
   "outputs": [],
   "source": [
    "\"\"\"\n",
    "DON'T MODIFY ANYTHING IN THIS CELL\n",
    "\"\"\"\n",
    "from tensorflow.contrib import seq2seq\n",
    "\n",
    "train_graph = tf.Graph()\n",
    "with train_graph.as_default():\n",
    "    vocab_size = len(int_to_vocab)\n",
    "    input_text, targets, lr = get_inputs()\n",
    "    input_data_shape = tf.shape(input_text)\n",
    "    cell, initial_state = get_init_cell(input_data_shape[0], rnn_size)\n",
    "    logits, final_state = build_nn(cell, rnn_size, input_text, vocab_size, embed_dim)\n",
    "\n",
    "    # Probabilities for generating words\n",
    "    probs = tf.nn.softmax(logits, name='probs')\n",
    "\n",
    "    # Loss function\n",
    "    cost = seq2seq.sequence_loss(\n",
    "        logits,\n",
    "        targets,\n",
    "        tf.ones([input_data_shape[0], input_data_shape[1]]))\n",
    "\n",
    "    # Optimizer\n",
    "    optimizer = tf.train.AdamOptimizer(lr)\n",
    "\n",
    "    # Gradient Clipping\n",
    "    gradients = optimizer.compute_gradients(cost)\n",
    "    capped_gradients = [(tf.clip_by_value(grad, -1., 1.), var) for grad, var in gradients if grad is not None]\n",
    "    train_op = optimizer.apply_gradients(capped_gradients)"
   ]
  },
  {
   "cell_type": "markdown",
   "metadata": {},
   "source": [
    "## Train\n",
    "Train the neural network on the preprocessed data.  If you have a hard time getting a good loss, check the [forums](https://discussions.udacity.com/) to see if anyone is having the same problem."
   ]
  },
  {
   "cell_type": "code",
   "execution_count": 16,
   "metadata": {},
   "outputs": [
    {
     "name": "stdout",
     "output_type": "stream",
     "text": [
      "Epoch   0 Batch    0/35   train_loss = 8.822\n",
      "Epoch   2 Batch   30/35   train_loss = 5.714\n",
      "Epoch   5 Batch   25/35   train_loss = 5.007\n",
      "Epoch   8 Batch   20/35   train_loss = 4.764\n",
      "Epoch  11 Batch   15/35   train_loss = 4.462\n",
      "Epoch  14 Batch   10/35   train_loss = 4.233\n",
      "Epoch  17 Batch    5/35   train_loss = 3.932\n",
      "Epoch  20 Batch    0/35   train_loss = 3.794\n",
      "Epoch  22 Batch   30/35   train_loss = 3.645\n",
      "Epoch  25 Batch   25/35   train_loss = 3.440\n",
      "Epoch  28 Batch   20/35   train_loss = 3.300\n",
      "Epoch  31 Batch   15/35   train_loss = 3.139\n",
      "Epoch  34 Batch   10/35   train_loss = 2.988\n",
      "Epoch  37 Batch    5/35   train_loss = 2.807\n",
      "Epoch  40 Batch    0/35   train_loss = 2.731\n",
      "Epoch  42 Batch   30/35   train_loss = 2.630\n",
      "Epoch  45 Batch   25/35   train_loss = 2.522\n",
      "Epoch  48 Batch   20/35   train_loss = 2.369\n",
      "Epoch  51 Batch   15/35   train_loss = 2.268\n",
      "Epoch  54 Batch   10/35   train_loss = 2.132\n",
      "Epoch  57 Batch    5/35   train_loss = 2.045\n",
      "Epoch  60 Batch    0/35   train_loss = 2.020\n",
      "Epoch  62 Batch   30/35   train_loss = 1.934\n",
      "Epoch  65 Batch   25/35   train_loss = 1.917\n",
      "Epoch  68 Batch   20/35   train_loss = 1.814\n",
      "Epoch  71 Batch   15/35   train_loss = 1.702\n",
      "Epoch  74 Batch   10/35   train_loss = 1.580\n",
      "Epoch  77 Batch    5/35   train_loss = 1.530\n",
      "Epoch  80 Batch    0/35   train_loss = 1.521\n",
      "Epoch  82 Batch   30/35   train_loss = 1.444\n",
      "Epoch  85 Batch   25/35   train_loss = 1.462\n",
      "Epoch  88 Batch   20/35   train_loss = 1.322\n",
      "Epoch  91 Batch   15/35   train_loss = 1.317\n",
      "Epoch  94 Batch   10/35   train_loss = 1.267\n",
      "Epoch  97 Batch    5/35   train_loss = 1.163\n",
      "Epoch 100 Batch    0/35   train_loss = 1.200\n",
      "Epoch 102 Batch   30/35   train_loss = 1.145\n",
      "Epoch 105 Batch   25/35   train_loss = 1.213\n",
      "Epoch 108 Batch   20/35   train_loss = 1.008\n",
      "Epoch 111 Batch   15/35   train_loss = 0.949\n",
      "Epoch 114 Batch   10/35   train_loss = 0.931\n",
      "Epoch 117 Batch    5/35   train_loss = 0.845\n",
      "Epoch 120 Batch    0/35   train_loss = 0.921\n",
      "Epoch 122 Batch   30/35   train_loss = 0.857\n",
      "Epoch 125 Batch   25/35   train_loss = 0.836\n",
      "Epoch 128 Batch   20/35   train_loss = 0.787\n",
      "Epoch 131 Batch   15/35   train_loss = 0.764\n",
      "Epoch 134 Batch   10/35   train_loss = 0.691\n",
      "Epoch 137 Batch    5/35   train_loss = 0.649\n",
      "Epoch 140 Batch    0/35   train_loss = 0.683\n",
      "Epoch 142 Batch   30/35   train_loss = 0.604\n",
      "Epoch 145 Batch   25/35   train_loss = 0.620\n",
      "Epoch 148 Batch   20/35   train_loss = 0.508\n",
      "Epoch 151 Batch   15/35   train_loss = 0.523\n",
      "Epoch 154 Batch   10/35   train_loss = 0.500\n",
      "Epoch 157 Batch    5/35   train_loss = 0.453\n",
      "Epoch 160 Batch    0/35   train_loss = 0.459\n",
      "Epoch 162 Batch   30/35   train_loss = 0.427\n",
      "Epoch 165 Batch   25/35   train_loss = 0.427\n",
      "Epoch 168 Batch   20/35   train_loss = 0.358\n",
      "Epoch 171 Batch   15/35   train_loss = 0.394\n",
      "Epoch 174 Batch   10/35   train_loss = 0.358\n",
      "Epoch 177 Batch    5/35   train_loss = 0.337\n",
      "Epoch 180 Batch    0/35   train_loss = 0.350\n",
      "Epoch 182 Batch   30/35   train_loss = 0.309\n",
      "Epoch 185 Batch   25/35   train_loss = 0.321\n",
      "Epoch 188 Batch   20/35   train_loss = 0.299\n",
      "Epoch 191 Batch   15/35   train_loss = 0.315\n",
      "Epoch 194 Batch   10/35   train_loss = 0.303\n",
      "Epoch 197 Batch    5/35   train_loss = 0.277\n",
      "Epoch 200 Batch    0/35   train_loss = 0.286\n",
      "Epoch 202 Batch   30/35   train_loss = 0.260\n",
      "Epoch 205 Batch   25/35   train_loss = 0.282\n",
      "Epoch 208 Batch   20/35   train_loss = 0.256\n",
      "Epoch 211 Batch   15/35   train_loss = 0.286\n",
      "Epoch 214 Batch   10/35   train_loss = 0.281\n",
      "Epoch 217 Batch    5/35   train_loss = 0.257\n",
      "Epoch 220 Batch    0/35   train_loss = 0.288\n",
      "Epoch 222 Batch   30/35   train_loss = 0.258\n",
      "Epoch 225 Batch   25/35   train_loss = 0.267\n",
      "Epoch 228 Batch   20/35   train_loss = 0.244\n",
      "Epoch 231 Batch   15/35   train_loss = 0.276\n",
      "Epoch 234 Batch   10/35   train_loss = 0.257\n",
      "Epoch 237 Batch    5/35   train_loss = 0.228\n",
      "Epoch 240 Batch    0/35   train_loss = 0.234\n",
      "Epoch 242 Batch   30/35   train_loss = 0.224\n",
      "Epoch 245 Batch   25/35   train_loss = 0.239\n",
      "Epoch 248 Batch   20/35   train_loss = 0.215\n",
      "Epoch 251 Batch   15/35   train_loss = 0.248\n",
      "Epoch 254 Batch   10/35   train_loss = 0.237\n",
      "Epoch 257 Batch    5/35   train_loss = 0.214\n",
      "Epoch 260 Batch    0/35   train_loss = 0.212\n",
      "Epoch 262 Batch   30/35   train_loss = 0.206\n",
      "Epoch 265 Batch   25/35   train_loss = 0.223\n",
      "Epoch 268 Batch   20/35   train_loss = 0.204\n",
      "Epoch 271 Batch   15/35   train_loss = 0.238\n",
      "Epoch 274 Batch   10/35   train_loss = 0.229\n",
      "Epoch 277 Batch    5/35   train_loss = 0.205\n",
      "Epoch 280 Batch    0/35   train_loss = 0.203\n",
      "Epoch 282 Batch   30/35   train_loss = 0.201\n",
      "Epoch 285 Batch   25/35   train_loss = 0.219\n",
      "Epoch 288 Batch   20/35   train_loss = 0.200\n",
      "Epoch 291 Batch   15/35   train_loss = 0.236\n",
      "Epoch 294 Batch   10/35   train_loss = 0.225\n",
      "Epoch 297 Batch    5/35   train_loss = 0.203\n",
      "Epoch 300 Batch    0/35   train_loss = 0.201\n",
      "Epoch 302 Batch   30/35   train_loss = 0.198\n",
      "Epoch 305 Batch   25/35   train_loss = 0.217\n",
      "Epoch 308 Batch   20/35   train_loss = 0.198\n",
      "Epoch 311 Batch   15/35   train_loss = 0.235\n",
      "Epoch 314 Batch   10/35   train_loss = 0.223\n",
      "Epoch 317 Batch    5/35   train_loss = 0.200\n",
      "Epoch 320 Batch    0/35   train_loss = 0.199\n",
      "Epoch 322 Batch   30/35   train_loss = 0.197\n",
      "Epoch 325 Batch   25/35   train_loss = 0.215\n",
      "Epoch 328 Batch   20/35   train_loss = 0.197\n",
      "Epoch 331 Batch   15/35   train_loss = 0.233\n",
      "Epoch 334 Batch   10/35   train_loss = 0.222\n",
      "Epoch 337 Batch    5/35   train_loss = 0.200\n",
      "Epoch 340 Batch    0/35   train_loss = 0.198\n",
      "Epoch 342 Batch   30/35   train_loss = 0.196\n",
      "Epoch 345 Batch   25/35   train_loss = 0.215\n",
      "Epoch 348 Batch   20/35   train_loss = 0.196\n",
      "Epoch 351 Batch   15/35   train_loss = 0.233\n",
      "Epoch 354 Batch   10/35   train_loss = 0.221\n",
      "Epoch 357 Batch    5/35   train_loss = 0.201\n",
      "Epoch 360 Batch    0/35   train_loss = 0.212\n",
      "Epoch 362 Batch   30/35   train_loss = 0.201\n",
      "Epoch 365 Batch   25/35   train_loss = 0.215\n",
      "Epoch 368 Batch   20/35   train_loss = 0.196\n",
      "Epoch 371 Batch   15/35   train_loss = 0.230\n",
      "Epoch 374 Batch   10/35   train_loss = 0.221\n",
      "Epoch 377 Batch    5/35   train_loss = 0.199\n",
      "Epoch 380 Batch    0/35   train_loss = 0.196\n",
      "Epoch 382 Batch   30/35   train_loss = 0.194\n",
      "Epoch 385 Batch   25/35   train_loss = 0.213\n",
      "Epoch 388 Batch   20/35   train_loss = 0.194\n",
      "Epoch 391 Batch   15/35   train_loss = 0.230\n",
      "Epoch 394 Batch   10/35   train_loss = 0.219\n",
      "Epoch 397 Batch    5/35   train_loss = 0.197\n",
      "Epoch 400 Batch    0/35   train_loss = 0.195\n",
      "Epoch 402 Batch   30/35   train_loss = 0.193\n",
      "Epoch 405 Batch   25/35   train_loss = 0.211\n",
      "Epoch 408 Batch   20/35   train_loss = 0.193\n",
      "Epoch 411 Batch   15/35   train_loss = 0.229\n",
      "Epoch 414 Batch   10/35   train_loss = 0.219\n",
      "Epoch 417 Batch    5/35   train_loss = 0.196\n",
      "Epoch 420 Batch    0/35   train_loss = 0.194\n",
      "Epoch 422 Batch   30/35   train_loss = 0.192\n",
      "Epoch 425 Batch   25/35   train_loss = 0.211\n",
      "Epoch 428 Batch   20/35   train_loss = 0.193\n",
      "Epoch 431 Batch   15/35   train_loss = 0.229\n",
      "Epoch 434 Batch   10/35   train_loss = 0.218\n",
      "Epoch 437 Batch    5/35   train_loss = 0.195\n",
      "Epoch 440 Batch    0/35   train_loss = 0.194\n",
      "Epoch 442 Batch   30/35   train_loss = 0.192\n",
      "Epoch 445 Batch   25/35   train_loss = 0.210\n",
      "Epoch 448 Batch   20/35   train_loss = 0.192\n",
      "Epoch 451 Batch   15/35   train_loss = 0.228\n",
      "Epoch 454 Batch   10/35   train_loss = 0.218\n",
      "Epoch 457 Batch    5/35   train_loss = 0.195\n",
      "Epoch 460 Batch    0/35   train_loss = 0.193\n",
      "Epoch 462 Batch   30/35   train_loss = 0.191\n",
      "Epoch 465 Batch   25/35   train_loss = 0.210\n",
      "Epoch 468 Batch   20/35   train_loss = 0.192\n",
      "Epoch 471 Batch   15/35   train_loss = 0.228\n",
      "Epoch 474 Batch   10/35   train_loss = 0.217\n",
      "Epoch 477 Batch    5/35   train_loss = 0.194\n",
      "Epoch 480 Batch    0/35   train_loss = 0.192\n",
      "Epoch 482 Batch   30/35   train_loss = 0.191\n",
      "Epoch 485 Batch   25/35   train_loss = 0.209\n",
      "Epoch 488 Batch   20/35   train_loss = 0.191\n",
      "Epoch 491 Batch   15/35   train_loss = 0.228\n",
      "Epoch 494 Batch   10/35   train_loss = 0.217\n",
      "Epoch 497 Batch    5/35   train_loss = 0.194\n",
      "Epoch 500 Batch    0/35   train_loss = 0.192\n",
      "Epoch 502 Batch   30/35   train_loss = 0.191\n",
      "Epoch 505 Batch   25/35   train_loss = 0.210\n",
      "Epoch 508 Batch   20/35   train_loss = 0.202\n",
      "Epoch 511 Batch   15/35   train_loss = 0.266\n",
      "Epoch 514 Batch   10/35   train_loss = 0.219\n",
      "Epoch 517 Batch    5/35   train_loss = 0.195\n",
      "Epoch 520 Batch    0/35   train_loss = 0.192\n"
     ]
    },
    {
     "name": "stdout",
     "output_type": "stream",
     "text": [
      "Epoch 522 Batch   30/35   train_loss = 0.191\n",
      "Epoch 525 Batch   25/35   train_loss = 0.209\n",
      "Epoch 528 Batch   20/35   train_loss = 0.191\n",
      "Epoch 531 Batch   15/35   train_loss = 0.227\n",
      "Epoch 534 Batch   10/35   train_loss = 0.216\n",
      "Epoch 537 Batch    5/35   train_loss = 0.193\n",
      "Epoch 540 Batch    0/35   train_loss = 0.192\n",
      "Epoch 542 Batch   30/35   train_loss = 0.190\n",
      "Epoch 545 Batch   25/35   train_loss = 0.208\n",
      "Epoch 548 Batch   20/35   train_loss = 0.190\n",
      "Epoch 551 Batch   15/35   train_loss = 0.227\n",
      "Epoch 554 Batch   10/35   train_loss = 0.216\n",
      "Epoch 557 Batch    5/35   train_loss = 0.193\n",
      "Epoch 560 Batch    0/35   train_loss = 0.191\n",
      "Epoch 562 Batch   30/35   train_loss = 0.190\n",
      "Epoch 565 Batch   25/35   train_loss = 0.208\n",
      "Epoch 568 Batch   20/35   train_loss = 0.190\n",
      "Epoch 571 Batch   15/35   train_loss = 0.227\n",
      "Epoch 574 Batch   10/35   train_loss = 0.216\n",
      "Epoch 577 Batch    5/35   train_loss = 0.193\n",
      "Epoch 580 Batch    0/35   train_loss = 0.191\n",
      "Epoch 582 Batch   30/35   train_loss = 0.190\n",
      "Epoch 585 Batch   25/35   train_loss = 0.208\n",
      "Epoch 588 Batch   20/35   train_loss = 0.190\n",
      "Epoch 591 Batch   15/35   train_loss = 0.227\n",
      "Epoch 594 Batch   10/35   train_loss = 0.215\n",
      "Epoch 597 Batch    5/35   train_loss = 0.193\n",
      "Epoch 600 Batch    0/35   train_loss = 0.191\n",
      "Epoch 602 Batch   30/35   train_loss = 0.189\n",
      "Epoch 605 Batch   25/35   train_loss = 0.208\n",
      "Epoch 608 Batch   20/35   train_loss = 0.190\n",
      "Epoch 611 Batch   15/35   train_loss = 0.226\n",
      "Epoch 614 Batch   10/35   train_loss = 0.215\n",
      "Epoch 617 Batch    5/35   train_loss = 0.192\n",
      "Epoch 620 Batch    0/35   train_loss = 0.191\n",
      "Epoch 622 Batch   30/35   train_loss = 0.189\n",
      "Epoch 625 Batch   25/35   train_loss = 0.208\n",
      "Epoch 628 Batch   20/35   train_loss = 0.190\n",
      "Epoch 631 Batch   15/35   train_loss = 0.226\n",
      "Epoch 634 Batch   10/35   train_loss = 0.215\n",
      "Epoch 637 Batch    5/35   train_loss = 0.192\n",
      "Epoch 640 Batch    0/35   train_loss = 0.191\n",
      "Epoch 642 Batch   30/35   train_loss = 0.189\n",
      "Epoch 645 Batch   25/35   train_loss = 0.208\n",
      "Epoch 648 Batch   20/35   train_loss = 0.190\n",
      "Epoch 651 Batch   15/35   train_loss = 0.226\n",
      "Epoch 654 Batch   10/35   train_loss = 0.215\n",
      "Epoch 657 Batch    5/35   train_loss = 0.192\n",
      "Epoch 660 Batch    0/35   train_loss = 0.190\n",
      "Epoch 662 Batch   30/35   train_loss = 0.189\n",
      "Epoch 665 Batch   25/35   train_loss = 0.207\n",
      "Epoch 668 Batch   20/35   train_loss = 0.189\n",
      "Epoch 671 Batch   15/35   train_loss = 0.226\n",
      "Epoch 674 Batch   10/35   train_loss = 0.215\n",
      "Epoch 677 Batch    5/35   train_loss = 0.192\n",
      "Epoch 680 Batch    0/35   train_loss = 0.190\n",
      "Epoch 682 Batch   30/35   train_loss = 0.189\n",
      "Epoch 685 Batch   25/35   train_loss = 0.208\n",
      "Epoch 688 Batch   20/35   train_loss = 0.189\n",
      "Epoch 691 Batch   15/35   train_loss = 0.226\n",
      "Epoch 694 Batch   10/35   train_loss = 0.214\n",
      "Epoch 697 Batch    5/35   train_loss = 0.192\n",
      "Epoch 700 Batch    0/35   train_loss = 0.190\n",
      "Epoch 702 Batch   30/35   train_loss = 0.188\n",
      "Epoch 705 Batch   25/35   train_loss = 0.207\n",
      "Epoch 708 Batch   20/35   train_loss = 0.189\n",
      "Epoch 711 Batch   15/35   train_loss = 0.225\n",
      "Epoch 714 Batch   10/35   train_loss = 0.214\n",
      "Epoch 717 Batch    5/35   train_loss = 0.191\n",
      "Epoch 720 Batch    0/35   train_loss = 0.190\n",
      "Epoch 722 Batch   30/35   train_loss = 0.188\n",
      "Epoch 725 Batch   25/35   train_loss = 0.207\n",
      "Epoch 728 Batch   20/35   train_loss = 0.189\n",
      "Epoch 731 Batch   15/35   train_loss = 0.225\n",
      "Epoch 734 Batch   10/35   train_loss = 0.214\n",
      "Epoch 737 Batch    5/35   train_loss = 0.191\n",
      "Epoch 740 Batch    0/35   train_loss = 0.257\n",
      "Epoch 742 Batch   30/35   train_loss = 0.193\n",
      "Epoch 745 Batch   25/35   train_loss = 0.208\n",
      "Epoch 748 Batch   20/35   train_loss = 0.190\n",
      "Epoch 751 Batch   15/35   train_loss = 0.226\n",
      "Epoch 754 Batch   10/35   train_loss = 0.214\n",
      "Epoch 757 Batch    5/35   train_loss = 0.191\n",
      "Epoch 760 Batch    0/35   train_loss = 0.190\n",
      "Epoch 762 Batch   30/35   train_loss = 0.188\n",
      "Epoch 765 Batch   25/35   train_loss = 0.207\n",
      "Epoch 768 Batch   20/35   train_loss = 0.189\n",
      "Epoch 771 Batch   15/35   train_loss = 0.225\n",
      "Epoch 774 Batch   10/35   train_loss = 0.214\n",
      "Epoch 777 Batch    5/35   train_loss = 0.191\n",
      "Epoch 780 Batch    0/35   train_loss = 0.190\n",
      "Epoch 782 Batch   30/35   train_loss = 0.188\n",
      "Epoch 785 Batch   25/35   train_loss = 0.207\n",
      "Epoch 788 Batch   20/35   train_loss = 0.189\n",
      "Epoch 791 Batch   15/35   train_loss = 0.225\n",
      "Epoch 794 Batch   10/35   train_loss = 0.214\n",
      "Epoch 797 Batch    5/35   train_loss = 0.191\n",
      "Epoch 800 Batch    0/35   train_loss = 0.189\n",
      "Epoch 802 Batch   30/35   train_loss = 0.188\n",
      "Epoch 805 Batch   25/35   train_loss = 0.206\n",
      "Epoch 808 Batch   20/35   train_loss = 0.189\n",
      "Epoch 811 Batch   15/35   train_loss = 0.225\n",
      "Epoch 814 Batch   10/35   train_loss = 0.214\n",
      "Epoch 817 Batch    5/35   train_loss = 0.191\n",
      "Epoch 820 Batch    0/35   train_loss = 0.189\n",
      "Epoch 822 Batch   30/35   train_loss = 0.188\n",
      "Epoch 825 Batch   25/35   train_loss = 0.206\n",
      "Epoch 828 Batch   20/35   train_loss = 0.188\n",
      "Epoch 831 Batch   15/35   train_loss = 0.225\n",
      "Epoch 834 Batch   10/35   train_loss = 0.214\n",
      "Epoch 837 Batch    5/35   train_loss = 0.191\n",
      "Epoch 840 Batch    0/35   train_loss = 0.189\n",
      "Epoch 842 Batch   30/35   train_loss = 0.188\n",
      "Epoch 845 Batch   25/35   train_loss = 0.206\n",
      "Epoch 848 Batch   20/35   train_loss = 0.188\n",
      "Epoch 851 Batch   15/35   train_loss = 0.225\n",
      "Epoch 854 Batch   10/35   train_loss = 0.214\n",
      "Epoch 857 Batch    5/35   train_loss = 0.191\n",
      "Epoch 860 Batch    0/35   train_loss = 0.189\n",
      "Epoch 862 Batch   30/35   train_loss = 0.187\n",
      "Epoch 865 Batch   25/35   train_loss = 0.206\n",
      "Epoch 868 Batch   20/35   train_loss = 0.188\n",
      "Epoch 871 Batch   15/35   train_loss = 0.225\n",
      "Epoch 874 Batch   10/35   train_loss = 0.214\n",
      "Epoch 877 Batch    5/35   train_loss = 0.190\n",
      "Epoch 880 Batch    0/35   train_loss = 0.189\n",
      "Epoch 882 Batch   30/35   train_loss = 0.187\n",
      "Epoch 885 Batch   25/35   train_loss = 0.206\n",
      "Epoch 888 Batch   20/35   train_loss = 0.188\n",
      "Epoch 891 Batch   15/35   train_loss = 0.225\n",
      "Epoch 894 Batch   10/35   train_loss = 0.213\n",
      "Epoch 897 Batch    5/35   train_loss = 0.190\n",
      "Epoch 900 Batch    0/35   train_loss = 0.189\n",
      "Epoch 902 Batch   30/35   train_loss = 0.187\n",
      "Epoch 905 Batch   25/35   train_loss = 0.206\n",
      "Epoch 908 Batch   20/35   train_loss = 0.188\n",
      "Epoch 911 Batch   15/35   train_loss = 0.225\n",
      "Epoch 914 Batch   10/35   train_loss = 0.213\n",
      "Epoch 917 Batch    5/35   train_loss = 0.190\n",
      "Epoch 920 Batch    0/35   train_loss = 0.189\n",
      "Epoch 922 Batch   30/35   train_loss = 0.187\n",
      "Epoch 925 Batch   25/35   train_loss = 0.206\n",
      "Epoch 928 Batch   20/35   train_loss = 0.188\n",
      "Epoch 931 Batch   15/35   train_loss = 0.224\n",
      "Epoch 934 Batch   10/35   train_loss = 0.213\n",
      "Epoch 937 Batch    5/35   train_loss = 0.190\n",
      "Epoch 940 Batch    0/35   train_loss = 0.189\n",
      "Epoch 942 Batch   30/35   train_loss = 0.187\n",
      "Epoch 945 Batch   25/35   train_loss = 0.206\n",
      "Epoch 948 Batch   20/35   train_loss = 0.188\n",
      "Epoch 951 Batch   15/35   train_loss = 0.224\n",
      "Epoch 954 Batch   10/35   train_loss = 0.213\n",
      "Epoch 957 Batch    5/35   train_loss = 0.190\n",
      "Epoch 960 Batch    0/35   train_loss = 0.189\n",
      "Epoch 962 Batch   30/35   train_loss = 0.187\n",
      "Epoch 965 Batch   25/35   train_loss = 0.206\n",
      "Epoch 968 Batch   20/35   train_loss = 0.188\n",
      "Epoch 971 Batch   15/35   train_loss = 0.224\n",
      "Epoch 974 Batch   10/35   train_loss = 0.213\n",
      "Epoch 977 Batch    5/35   train_loss = 0.190\n",
      "Epoch 980 Batch    0/35   train_loss = 0.189\n",
      "Epoch 982 Batch   30/35   train_loss = 0.187\n",
      "Epoch 985 Batch   25/35   train_loss = 0.206\n",
      "Epoch 988 Batch   20/35   train_loss = 0.188\n",
      "Epoch 991 Batch   15/35   train_loss = 0.224\n",
      "Epoch 994 Batch   10/35   train_loss = 0.213\n",
      "Epoch 997 Batch    5/35   train_loss = 0.190\n",
      "Model Trained and Saved\n"
     ]
    }
   ],
   "source": [
    "\"\"\"\n",
    "DON'T MODIFY ANYTHING IN THIS CELL\n",
    "\"\"\"\n",
    "batches = get_batches(int_text, batch_size, seq_length)\n",
    "\n",
    "with tf.Session(graph=train_graph) as sess:\n",
    "    sess.run(tf.global_variables_initializer())\n",
    "\n",
    "    for epoch_i in range(num_epochs):\n",
    "        state = sess.run(initial_state, {input_text: batches[0][0]})\n",
    "\n",
    "        for batch_i, (x, y) in enumerate(batches):\n",
    "            feed = {\n",
    "                input_text: x,\n",
    "                targets: y,\n",
    "                initial_state: state,\n",
    "                lr: learning_rate}\n",
    "            train_loss, state, _ = sess.run([cost, final_state, train_op], feed)\n",
    "\n",
    "            # Show every <show_every_n_batches> batches\n",
    "            if (epoch_i * len(batches) + batch_i) % show_every_n_batches == 0:\n",
    "                print('Epoch {:>3} Batch {:>4}/{}   train_loss = {:.3f}'.format(\n",
    "                    epoch_i,\n",
    "                    batch_i,\n",
    "                    len(batches),\n",
    "                    train_loss))\n",
    "\n",
    "    # Save Model\n",
    "    saver = tf.train.Saver()\n",
    "    saver.save(sess, save_dir)\n",
    "    print('Model Trained and Saved')"
   ]
  },
  {
   "cell_type": "markdown",
   "metadata": {},
   "source": [
    "## Save Parameters\n",
    "Save `seq_length` and `save_dir` for generating a new TV script."
   ]
  },
  {
   "cell_type": "code",
   "execution_count": 17,
   "metadata": {},
   "outputs": [],
   "source": [
    "\"\"\"\n",
    "DON'T MODIFY ANYTHING IN THIS CELL\n",
    "\"\"\"\n",
    "# Save parameters for checkpoint\n",
    "helper.save_params((seq_length, save_dir))"
   ]
  },
  {
   "cell_type": "markdown",
   "metadata": {},
   "source": [
    "# Checkpoint"
   ]
  },
  {
   "cell_type": "code",
   "execution_count": 18,
   "metadata": {},
   "outputs": [],
   "source": [
    "\"\"\"\n",
    "DON'T MODIFY ANYTHING IN THIS CELL\n",
    "\"\"\"\n",
    "import tensorflow as tf\n",
    "import numpy as np\n",
    "import helper\n",
    "import problem_unittests as tests\n",
    "\n",
    "_, vocab_to_int, int_to_vocab, token_dict = helper.load_preprocess()\n",
    "seq_length, load_dir = helper.load_params()"
   ]
  },
  {
   "cell_type": "markdown",
   "metadata": {},
   "source": [
    "## Implement Generate Functions\n",
    "### Get Tensors\n",
    "Get tensors from `loaded_graph` using the function [`get_tensor_by_name()`](https://www.tensorflow.org/api_docs/python/tf/Graph#get_tensor_by_name).  Get the tensors using the following names:\n",
    "- \"input:0\"\n",
    "- \"initial_state:0\"\n",
    "- \"final_state:0\"\n",
    "- \"probs:0\"\n",
    "\n",
    "Return the tensors in the following tuple `(InputTensor, InitialStateTensor, FinalStateTensor, ProbsTensor)` "
   ]
  },
  {
   "cell_type": "code",
   "execution_count": 19,
   "metadata": {},
   "outputs": [
    {
     "name": "stdout",
     "output_type": "stream",
     "text": [
      "Tests Passed\n"
     ]
    }
   ],
   "source": [
    "def get_tensors(loaded_graph):\n",
    "    \"\"\"\n",
    "    Get input, initial state, final state, and probabilities tensor from <loaded_graph>\n",
    "    :param loaded_graph: TensorFlow graph loaded from file\n",
    "    :return: Tuple (InputTensor, InitialStateTensor, FinalStateTensor, ProbsTensor)\n",
    "    \"\"\"\n",
    "    # TODO: Implement Function\n",
    "    input_tensor = loaded_graph.get_tensor_by_name('input:0')\n",
    "    initial_state_tensor = loaded_graph.get_tensor_by_name('initial_state:0')\n",
    "    final_state_tensor = loaded_graph.get_tensor_by_name('final_state:0')\n",
    "    probs_tensor = loaded_graph.get_tensor_by_name('probs:0')\n",
    "    return (input_tensor, initial_state_tensor, final_state_tensor, probs_tensor)\n",
    "\n",
    "\n",
    "\"\"\"\n",
    "DON'T MODIFY ANYTHING IN THIS CELL THAT IS BELOW THIS LINE\n",
    "\"\"\"\n",
    "tests.test_get_tensors(get_tensors)"
   ]
  },
  {
   "cell_type": "markdown",
   "metadata": {},
   "source": [
    "### Choose Word\n",
    "Implement the `pick_word()` function to select the next word using `probabilities`."
   ]
  },
  {
   "cell_type": "code",
   "execution_count": 20,
   "metadata": {},
   "outputs": [
    {
     "name": "stdout",
     "output_type": "stream",
     "text": [
      "Tests Passed\n"
     ]
    }
   ],
   "source": [
    "def pick_word(probabilities, int_to_vocab):\n",
    "    \"\"\"\n",
    "    Pick the next word in the generated text\n",
    "    :param probabilities: Probabilites of the next word\n",
    "    :param int_to_vocab: Dictionary of word ids as the keys and words as the values\n",
    "    :return: String of the predicted word\n",
    "    \"\"\"\n",
    "    # TODO: Implement Function\n",
    "    prob_word = np.argmax(probabilities)\n",
    "    next_word = int_to_vocab[prob_word]\n",
    "    return next_word\n",
    "\n",
    "\n",
    "\"\"\"\n",
    "DON'T MODIFY ANYTHING IN THIS CELL THAT IS BELOW THIS LINE\n",
    "\"\"\"\n",
    "tests.test_pick_word(pick_word)"
   ]
  },
  {
   "cell_type": "markdown",
   "metadata": {},
   "source": [
    "## Generate TV Script\n",
    "This will generate the TV script for you.  Set `gen_length` to the length of TV script you want to generate."
   ]
  },
  {
   "cell_type": "code",
   "execution_count": 21,
   "metadata": {},
   "outputs": [
    {
     "name": "stdout",
     "output_type": "stream",
     "text": [
      "INFO:tensorflow:Restoring parameters from ./save\n",
      "moe_szyslak:(smiling) whoa! homer, it's like there's a party in my mouth.\n",
      "barney_gumble: why, that japanese puzzle in which no numeral.\n",
      "homer_simpson:(moans) how could my god!(to maggie) help, my beautiful guy.\n",
      "homer_simpson: well, i was like a jerk later, moe.\n",
      "moe_szyslak: what are you so happy about homer? you didn't win any money-- i just sat there, you tow-talitarian!\n",
      "carl_carlson:(shout) yeah, i know, i know. but the bad news is we turn that.\n",
      "moe_szyslak: not so fast.\n",
      "moe_szyslak: nobody comes here i tried to hang myself and the rope broke? well, i'll tell you where the pretending ends.\n",
      "moe_szyslak: nah, it's just a(nervous chuckle)\n",
      "homer_simpson: woo hoo!\n",
      "homer_simpson:(still dancing) not!!\n",
      "snake_jailbird: yes, hello, gentlemen. you need to focus on and i can think of carl?\n",
      "moe_szyslak: hey, hey, hey! read on the beach. our pants rolled up\n"
     ]
    }
   ],
   "source": [
    "gen_length = 200\n",
    "# homer_simpson, moe_szyslak, or Barney_Gumble\n",
    "prime_word = 'moe_szyslak'\n",
    "\n",
    "\"\"\"\n",
    "DON'T MODIFY ANYTHING IN THIS CELL THAT IS BELOW THIS LINE\n",
    "\"\"\"\n",
    "loaded_graph = tf.Graph()\n",
    "with tf.Session(graph=loaded_graph) as sess:\n",
    "    # Load saved model\n",
    "    loader = tf.train.import_meta_graph(load_dir + '.meta')\n",
    "    loader.restore(sess, load_dir)\n",
    "\n",
    "    # Get Tensors from loaded model\n",
    "    input_text, initial_state, final_state, probs = get_tensors(loaded_graph)\n",
    "\n",
    "    # Sentences generation setup\n",
    "    gen_sentences = [prime_word + ':']\n",
    "    prev_state = sess.run(initial_state, {input_text: np.array([[1]])})\n",
    "\n",
    "    # Generate sentences\n",
    "    for n in range(gen_length):\n",
    "        # Dynamic Input\n",
    "        dyn_input = [[vocab_to_int[word] for word in gen_sentences[-seq_length:]]]\n",
    "        dyn_seq_length = len(dyn_input[0])\n",
    "\n",
    "        # Get Prediction\n",
    "        probabilities, prev_state = sess.run(\n",
    "            [probs, final_state],\n",
    "            {input_text: dyn_input, initial_state: prev_state})\n",
    "        \n",
    "        pred_word = pick_word(probabilities[0][dyn_seq_length-1], int_to_vocab)\n",
    "\n",
    "        gen_sentences.append(pred_word)\n",
    "    \n",
    "    # Remove tokens\n",
    "    tv_script = ' '.join(gen_sentences)\n",
    "    for key, token in token_dict.items():\n",
    "        ending = ' ' if key in ['\\n', '(', '\"'] else ''\n",
    "        tv_script = tv_script.replace(' ' + token.lower(), key)\n",
    "    tv_script = tv_script.replace('\\n ', '\\n')\n",
    "    tv_script = tv_script.replace('( ', '(')\n",
    "        \n",
    "    print(tv_script)"
   ]
  },
  {
   "cell_type": "markdown",
   "metadata": {},
   "source": [
    "# The TV Script is Nonsensical\n",
    "It's ok if the TV script doesn't make any sense.  We trained on less than a megabyte of text.  In order to get good results, you'll have to use a smaller vocabulary or get more data.  Luckily there's more data!  As we mentioned in the beggining of this project, this is a subset of [another dataset](https://www.kaggle.com/wcukierski/the-simpsons-by-the-data).  We didn't have you train on all the data, because that would take too long.  However, you are free to train your neural network on all the data.  After you complete the project, of course.\n",
    "# Submitting This Project\n",
    "When submitting this project, make sure to run all the cells before saving the notebook. Save the notebook file as \"dlnd_tv_script_generation.ipynb\" and save it as a HTML file under \"File\" -> \"Download as\". Include the \"helper.py\" and \"problem_unittests.py\" files in your submission."
   ]
  }
 ],
 "metadata": {
  "kernelspec": {
   "display_name": "Python 3",
   "language": "python",
   "name": "python3"
  },
  "language_info": {
   "codemirror_mode": {
    "name": "ipython",
    "version": 3
   },
   "file_extension": ".py",
   "mimetype": "text/x-python",
   "name": "python",
   "nbconvert_exporter": "python",
   "pygments_lexer": "ipython3",
   "version": "3.6.5"
  },
  "widgets": {
   "state": {},
   "version": "1.1.2"
  }
 },
 "nbformat": 4,
 "nbformat_minor": 1
}
